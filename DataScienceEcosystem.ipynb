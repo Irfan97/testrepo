{
 "cells": [
  {
   "cell_type": "markdown",
   "id": "5f5caffe-cb66-43c6-9232-bae4d00da56e",
   "metadata": {},
   "source": [
    "# Data Science Tools and Ecosystem"
   ]
  },
  {
   "cell_type": "markdown",
   "id": "0a4b0c85-5aed-4e86-82a9-6a33abe3e105",
   "metadata": {},
   "source": [
    "In this notebook, Data Science Tools and Ecosystem are summarized."
   ]
  },
  {
   "cell_type": "markdown",
   "id": "e42f26c5-9d00-4024-a8dd-5b4197b6b0e6",
   "metadata": {},
   "source": [
    "**Objectives:**\n",
    "+ Learn Python\n",
    "+ Learn R\n",
    "+ GitHub\n"
   ]
  },
  {
   "cell_type": "markdown",
   "id": "13be0e8c-3e1f-4816-a820-6ef69ddf06ef",
   "metadata": {},
   "source": [
    "Some of the popular languages that Data Scientists use are:\n",
    "1. Python\n",
    "2. R\n",
    "3. SQL\n",
    "4. Julia\n",
    "5. Scala"
   ]
  },
  {
   "cell_type": "markdown",
   "id": "5f151acb-2696-4fc0-b7e8-dbbbc904d38a",
   "metadata": {},
   "source": [
    "Some of the commonly used libraries used by Data Scientists include:\r",
    "1. Pandas\n",
    "2. NumPy\n",
    "3. Matplotlib\n",
    "4. TensorFlow\n",
    "5. Scikit-learn\n",
    "6. TensorFlow\n",
    "7. SciPy\n"
   ]
  },
  {
   "cell_type": "markdown",
   "id": "569b4265-4575-4da8-95f0-410ee7ec598d",
   "metadata": {},
   "source": [
    "|Data Science Tools|\n",
    "|------------------|\n",
    "|Anoconda Distribution|\n",
    "|JupyterNotebook/JupyterLab|\n",
    "|RStudio|"
   ]
  },
  {
   "cell_type": "markdown",
   "id": "e9535fa7-3c05-402d-ad71-3f880e2c8a6e",
   "metadata": {},
   "source": [
    "### Below are a few examples of evaluating arithmetic expressions in Python"
   ]
  },
  {
   "cell_type": "code",
   "execution_count": 10,
   "id": "8181de65-e444-4048-8089-946bb01b7f48",
   "metadata": {},
   "outputs": [
    {
     "data": {
      "text/plain": [
       "17"
      ]
     },
     "execution_count": 10,
     "metadata": {},
     "output_type": "execute_result"
    }
   ],
   "source": [
    "# This a simple arithmetic expression to mutiply then add integers\n",
    "(3*4)+5"
   ]
  },
  {
   "cell_type": "code",
   "execution_count": 12,
   "id": "26a05c4b-7d5c-4d0d-b8ab-de16388e0c07",
   "metadata": {},
   "outputs": [
    {
     "data": {
      "text/plain": [
       "3.3333333333333335"
      ]
     },
     "execution_count": 12,
     "metadata": {},
     "output_type": "execute_result"
    }
   ],
   "source": [
    "# This will convert 200 minutes to hours by diving by 60\n",
    "200 / 60"
   ]
  },
  {
   "cell_type": "markdown",
   "id": "dc8bb65c-6563-4344-8d83-1e1b8ca26c13",
   "metadata": {},
   "source": [
    "## Author\n",
    "Irfan Ullah"
   ]
  }
 ],
 "metadata": {
  "kernelspec": {
   "display_name": "Python 3 (ipykernel)",
   "language": "python",
   "name": "python3"
  },
  "language_info": {
   "codemirror_mode": {
    "name": "ipython",
    "version": 3
   },
   "file_extension": ".py",
   "mimetype": "text/x-python",
   "name": "python",
   "nbconvert_exporter": "python",
   "pygments_lexer": "ipython3",
   "version": "3.12.4"
  }
 },
 "nbformat": 4,
 "nbformat_minor": 5
}
